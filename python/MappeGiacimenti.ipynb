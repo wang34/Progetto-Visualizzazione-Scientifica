{
 "cells": [
  {
   "cell_type": "code",
   "execution_count": 1,
   "metadata": {},
   "outputs": [
    {
     "data": {
      "application/vnd.plotly.v1+json": {
       "config": {
        "plotlyServerURL": "https://plot.ly"
       },
       "data": [
        {
         "coloraxis": "coloraxis",
         "customdata": [
          [
           150227000000
          ],
          [
           6596000000
          ],
          [
           2366000000
          ],
          [
           6582000000
          ],
          [
           143197000000
          ],
          [
           4554000000
          ],
          [
           3595000000
          ],
          [
           35900000000
          ],
          [
           2876000000
          ],
          [
           2909000000
          ],
          [
           111052000000
          ],
          [
           34869000000
          ],
          [
           350000000
          ],
          [
           25605000000
          ],
          [
           1211000000
          ],
          [
           2520000000
          ],
          [
           7575000000
          ],
          [
           3064000000
          ],
          [
           28395000000
          ],
          [
           291000000
          ],
          [
           162166000000
          ],
          [
           7514000000
          ],
          [
           9893000000
          ],
          [
           326000000
          ],
          [
           1187000000
          ],
          [
           1063000000
          ],
          [
           11525000000
          ],
          [
           34375000000
          ],
          [
           26000000
          ],
          [
           248941000000
          ],
          [
           1375000000
          ],
          [
           731000000
          ],
          [
           3360000000
          ],
          [
           502000000
          ]
         ],
         "geo": "geo",
         "hovertemplate": "<b>%{hovertext}</b><br><br>Code=%{location}<br>Coal reserves - Mt=%{z}<extra></extra>",
         "hovertext": [
          "Australia",
          "Brazil",
          "Bulgaria",
          "Canada",
          "China",
          "Colombia",
          "Czechia",
          "Germany",
          "Greece",
          "Hungary",
          "India",
          "Indonesia",
          "Japan",
          "Kazakhstan",
          "Mexico",
          "Mongolia",
          "New Zealand",
          "Pakistan",
          "Poland",
          "Romania",
          "Russia",
          "Serbia",
          "South Africa",
          "South Korea",
          "Spain",
          "Thailand",
          "Turkey",
          "Ukraine",
          "United Kingdom",
          "United States",
          "Uzbekistan",
          "Venezuela",
          "Vietnam",
          "Zimbabwe"
         ],
         "locations": [
          "AUS",
          "BRA",
          "BGR",
          "CAN",
          "CHN",
          "COL",
          "CZE",
          "DEU",
          "GRC",
          "HUN",
          "IND",
          "IDN",
          "JPN",
          "KAZ",
          "MEX",
          "MNG",
          "NZL",
          "PAK",
          "POL",
          "ROU",
          "RUS",
          "SRB",
          "ZAF",
          "KOR",
          "ESP",
          "THA",
          "TUR",
          "UKR",
          "GBR",
          "USA",
          "UZB",
          "VEN",
          "VNM",
          "ZWE"
         ],
         "name": "",
         "type": "choropleth",
         "z": [
          150227000000,
          6596000000,
          2366000000,
          6582000000,
          143197000000,
          4554000000,
          3595000000,
          35900000000,
          2876000000,
          2909000000,
          111052000000,
          34869000000,
          350000000,
          25605000000,
          1211000000,
          2520000000,
          7575000000,
          3064000000,
          28395000000,
          291000000,
          162166000000,
          7514000000,
          9893000000,
          326000000,
          1187000000,
          1063000000,
          11525000000,
          34375000000,
          26000000,
          248941000000,
          1375000000,
          731000000,
          3360000000,
          502000000
         ]
        }
       ],
       "layout": {
        "coloraxis": {
         "cmax": 300000000000,
         "cmin": 10000000,
         "colorbar": {
          "title": {
           "text": "Milioni di tonnellate"
          }
         },
         "colorscale": [
          [
           0,
           "rgb(255,255,229)"
          ],
          [
           0.125,
           "rgb(255,247,188)"
          ],
          [
           0.25,
           "rgb(254,227,145)"
          ],
          [
           0.375,
           "rgb(254,196,79)"
          ],
          [
           0.5,
           "rgb(254,153,41)"
          ],
          [
           0.625,
           "rgb(236,112,20)"
          ],
          [
           0.75,
           "rgb(204,76,2)"
          ],
          [
           0.875,
           "rgb(153,52,4)"
          ],
          [
           1,
           "rgb(102,37,6)"
          ]
         ]
        },
        "geo": {
         "center": {},
         "domain": {
          "x": [
           0,
           1
          ],
          "y": [
           0,
           1
          ]
         },
         "projection": {
          "type": "natural earth"
         }
        },
        "height": 700,
        "legend": {
         "tracegroupgap": 0
        },
        "margin": {
         "b": 20,
         "l": 20,
         "r": 20,
         "t": 40
        },
        "paper_bgcolor": "#EAE0C8",
        "plot_bgcolor": "#EAE0C8",
        "template": {
         "data": {
          "bar": [
           {
            "error_x": {
             "color": "#2a3f5f"
            },
            "error_y": {
             "color": "#2a3f5f"
            },
            "marker": {
             "line": {
              "color": "#E5ECF6",
              "width": 0.5
             },
             "pattern": {
              "fillmode": "overlay",
              "size": 10,
              "solidity": 0.2
             }
            },
            "type": "bar"
           }
          ],
          "barpolar": [
           {
            "marker": {
             "line": {
              "color": "#E5ECF6",
              "width": 0.5
             },
             "pattern": {
              "fillmode": "overlay",
              "size": 10,
              "solidity": 0.2
             }
            },
            "type": "barpolar"
           }
          ],
          "carpet": [
           {
            "aaxis": {
             "endlinecolor": "#2a3f5f",
             "gridcolor": "white",
             "linecolor": "white",
             "minorgridcolor": "white",
             "startlinecolor": "#2a3f5f"
            },
            "baxis": {
             "endlinecolor": "#2a3f5f",
             "gridcolor": "white",
             "linecolor": "white",
             "minorgridcolor": "white",
             "startlinecolor": "#2a3f5f"
            },
            "type": "carpet"
           }
          ],
          "choropleth": [
           {
            "colorbar": {
             "outlinewidth": 0,
             "ticks": ""
            },
            "type": "choropleth"
           }
          ],
          "contour": [
           {
            "colorbar": {
             "outlinewidth": 0,
             "ticks": ""
            },
            "colorscale": [
             [
              0,
              "#0d0887"
             ],
             [
              0.1111111111111111,
              "#46039f"
             ],
             [
              0.2222222222222222,
              "#7201a8"
             ],
             [
              0.3333333333333333,
              "#9c179e"
             ],
             [
              0.4444444444444444,
              "#bd3786"
             ],
             [
              0.5555555555555556,
              "#d8576b"
             ],
             [
              0.6666666666666666,
              "#ed7953"
             ],
             [
              0.7777777777777778,
              "#fb9f3a"
             ],
             [
              0.8888888888888888,
              "#fdca26"
             ],
             [
              1,
              "#f0f921"
             ]
            ],
            "type": "contour"
           }
          ],
          "contourcarpet": [
           {
            "colorbar": {
             "outlinewidth": 0,
             "ticks": ""
            },
            "type": "contourcarpet"
           }
          ],
          "heatmap": [
           {
            "colorbar": {
             "outlinewidth": 0,
             "ticks": ""
            },
            "colorscale": [
             [
              0,
              "#0d0887"
             ],
             [
              0.1111111111111111,
              "#46039f"
             ],
             [
              0.2222222222222222,
              "#7201a8"
             ],
             [
              0.3333333333333333,
              "#9c179e"
             ],
             [
              0.4444444444444444,
              "#bd3786"
             ],
             [
              0.5555555555555556,
              "#d8576b"
             ],
             [
              0.6666666666666666,
              "#ed7953"
             ],
             [
              0.7777777777777778,
              "#fb9f3a"
             ],
             [
              0.8888888888888888,
              "#fdca26"
             ],
             [
              1,
              "#f0f921"
             ]
            ],
            "type": "heatmap"
           }
          ],
          "histogram": [
           {
            "marker": {
             "pattern": {
              "fillmode": "overlay",
              "size": 10,
              "solidity": 0.2
             }
            },
            "type": "histogram"
           }
          ],
          "histogram2d": [
           {
            "colorbar": {
             "outlinewidth": 0,
             "ticks": ""
            },
            "colorscale": [
             [
              0,
              "#0d0887"
             ],
             [
              0.1111111111111111,
              "#46039f"
             ],
             [
              0.2222222222222222,
              "#7201a8"
             ],
             [
              0.3333333333333333,
              "#9c179e"
             ],
             [
              0.4444444444444444,
              "#bd3786"
             ],
             [
              0.5555555555555556,
              "#d8576b"
             ],
             [
              0.6666666666666666,
              "#ed7953"
             ],
             [
              0.7777777777777778,
              "#fb9f3a"
             ],
             [
              0.8888888888888888,
              "#fdca26"
             ],
             [
              1,
              "#f0f921"
             ]
            ],
            "type": "histogram2d"
           }
          ],
          "histogram2dcontour": [
           {
            "colorbar": {
             "outlinewidth": 0,
             "ticks": ""
            },
            "colorscale": [
             [
              0,
              "#0d0887"
             ],
             [
              0.1111111111111111,
              "#46039f"
             ],
             [
              0.2222222222222222,
              "#7201a8"
             ],
             [
              0.3333333333333333,
              "#9c179e"
             ],
             [
              0.4444444444444444,
              "#bd3786"
             ],
             [
              0.5555555555555556,
              "#d8576b"
             ],
             [
              0.6666666666666666,
              "#ed7953"
             ],
             [
              0.7777777777777778,
              "#fb9f3a"
             ],
             [
              0.8888888888888888,
              "#fdca26"
             ],
             [
              1,
              "#f0f921"
             ]
            ],
            "type": "histogram2dcontour"
           }
          ],
          "mesh3d": [
           {
            "colorbar": {
             "outlinewidth": 0,
             "ticks": ""
            },
            "type": "mesh3d"
           }
          ],
          "parcoords": [
           {
            "line": {
             "colorbar": {
              "outlinewidth": 0,
              "ticks": ""
             }
            },
            "type": "parcoords"
           }
          ],
          "pie": [
           {
            "automargin": true,
            "type": "pie"
           }
          ],
          "scatter": [
           {
            "fillpattern": {
             "fillmode": "overlay",
             "size": 10,
             "solidity": 0.2
            },
            "type": "scatter"
           }
          ],
          "scatter3d": [
           {
            "line": {
             "colorbar": {
              "outlinewidth": 0,
              "ticks": ""
             }
            },
            "marker": {
             "colorbar": {
              "outlinewidth": 0,
              "ticks": ""
             }
            },
            "type": "scatter3d"
           }
          ],
          "scattercarpet": [
           {
            "marker": {
             "colorbar": {
              "outlinewidth": 0,
              "ticks": ""
             }
            },
            "type": "scattercarpet"
           }
          ],
          "scattergeo": [
           {
            "marker": {
             "colorbar": {
              "outlinewidth": 0,
              "ticks": ""
             }
            },
            "type": "scattergeo"
           }
          ],
          "scattergl": [
           {
            "marker": {
             "colorbar": {
              "outlinewidth": 0,
              "ticks": ""
             }
            },
            "type": "scattergl"
           }
          ],
          "scattermap": [
           {
            "marker": {
             "colorbar": {
              "outlinewidth": 0,
              "ticks": ""
             }
            },
            "type": "scattermap"
           }
          ],
          "scattermapbox": [
           {
            "marker": {
             "colorbar": {
              "outlinewidth": 0,
              "ticks": ""
             }
            },
            "type": "scattermapbox"
           }
          ],
          "scatterpolar": [
           {
            "marker": {
             "colorbar": {
              "outlinewidth": 0,
              "ticks": ""
             }
            },
            "type": "scatterpolar"
           }
          ],
          "scatterpolargl": [
           {
            "marker": {
             "colorbar": {
              "outlinewidth": 0,
              "ticks": ""
             }
            },
            "type": "scatterpolargl"
           }
          ],
          "scatterternary": [
           {
            "marker": {
             "colorbar": {
              "outlinewidth": 0,
              "ticks": ""
             }
            },
            "type": "scatterternary"
           }
          ],
          "surface": [
           {
            "colorbar": {
             "outlinewidth": 0,
             "ticks": ""
            },
            "colorscale": [
             [
              0,
              "#0d0887"
             ],
             [
              0.1111111111111111,
              "#46039f"
             ],
             [
              0.2222222222222222,
              "#7201a8"
             ],
             [
              0.3333333333333333,
              "#9c179e"
             ],
             [
              0.4444444444444444,
              "#bd3786"
             ],
             [
              0.5555555555555556,
              "#d8576b"
             ],
             [
              0.6666666666666666,
              "#ed7953"
             ],
             [
              0.7777777777777778,
              "#fb9f3a"
             ],
             [
              0.8888888888888888,
              "#fdca26"
             ],
             [
              1,
              "#f0f921"
             ]
            ],
            "type": "surface"
           }
          ],
          "table": [
           {
            "cells": {
             "fill": {
              "color": "#EBF0F8"
             },
             "line": {
              "color": "white"
             }
            },
            "header": {
             "fill": {
              "color": "#C8D4E3"
             },
             "line": {
              "color": "white"
             }
            },
            "type": "table"
           }
          ]
         },
         "layout": {
          "annotationdefaults": {
           "arrowcolor": "#2a3f5f",
           "arrowhead": 0,
           "arrowwidth": 1
          },
          "autotypenumbers": "strict",
          "coloraxis": {
           "colorbar": {
            "outlinewidth": 0,
            "ticks": ""
           }
          },
          "colorscale": {
           "diverging": [
            [
             0,
             "#8e0152"
            ],
            [
             0.1,
             "#c51b7d"
            ],
            [
             0.2,
             "#de77ae"
            ],
            [
             0.3,
             "#f1b6da"
            ],
            [
             0.4,
             "#fde0ef"
            ],
            [
             0.5,
             "#f7f7f7"
            ],
            [
             0.6,
             "#e6f5d0"
            ],
            [
             0.7,
             "#b8e186"
            ],
            [
             0.8,
             "#7fbc41"
            ],
            [
             0.9,
             "#4d9221"
            ],
            [
             1,
             "#276419"
            ]
           ],
           "sequential": [
            [
             0,
             "#0d0887"
            ],
            [
             0.1111111111111111,
             "#46039f"
            ],
            [
             0.2222222222222222,
             "#7201a8"
            ],
            [
             0.3333333333333333,
             "#9c179e"
            ],
            [
             0.4444444444444444,
             "#bd3786"
            ],
            [
             0.5555555555555556,
             "#d8576b"
            ],
            [
             0.6666666666666666,
             "#ed7953"
            ],
            [
             0.7777777777777778,
             "#fb9f3a"
            ],
            [
             0.8888888888888888,
             "#fdca26"
            ],
            [
             1,
             "#f0f921"
            ]
           ],
           "sequentialminus": [
            [
             0,
             "#0d0887"
            ],
            [
             0.1111111111111111,
             "#46039f"
            ],
            [
             0.2222222222222222,
             "#7201a8"
            ],
            [
             0.3333333333333333,
             "#9c179e"
            ],
            [
             0.4444444444444444,
             "#bd3786"
            ],
            [
             0.5555555555555556,
             "#d8576b"
            ],
            [
             0.6666666666666666,
             "#ed7953"
            ],
            [
             0.7777777777777778,
             "#fb9f3a"
            ],
            [
             0.8888888888888888,
             "#fdca26"
            ],
            [
             1,
             "#f0f921"
            ]
           ]
          },
          "colorway": [
           "#636efa",
           "#EF553B",
           "#00cc96",
           "#ab63fa",
           "#FFA15A",
           "#19d3f3",
           "#FF6692",
           "#B6E880",
           "#FF97FF",
           "#FECB52"
          ],
          "font": {
           "color": "#2a3f5f"
          },
          "geo": {
           "bgcolor": "white",
           "lakecolor": "white",
           "landcolor": "#E5ECF6",
           "showlakes": true,
           "showland": true,
           "subunitcolor": "white"
          },
          "hoverlabel": {
           "align": "left"
          },
          "hovermode": "closest",
          "mapbox": {
           "style": "light"
          },
          "paper_bgcolor": "white",
          "plot_bgcolor": "#E5ECF6",
          "polar": {
           "angularaxis": {
            "gridcolor": "white",
            "linecolor": "white",
            "ticks": ""
           },
           "bgcolor": "#E5ECF6",
           "radialaxis": {
            "gridcolor": "white",
            "linecolor": "white",
            "ticks": ""
           }
          },
          "scene": {
           "xaxis": {
            "backgroundcolor": "#E5ECF6",
            "gridcolor": "white",
            "gridwidth": 2,
            "linecolor": "white",
            "showbackground": true,
            "ticks": "",
            "zerolinecolor": "white"
           },
           "yaxis": {
            "backgroundcolor": "#E5ECF6",
            "gridcolor": "white",
            "gridwidth": 2,
            "linecolor": "white",
            "showbackground": true,
            "ticks": "",
            "zerolinecolor": "white"
           },
           "zaxis": {
            "backgroundcolor": "#E5ECF6",
            "gridcolor": "white",
            "gridwidth": 2,
            "linecolor": "white",
            "showbackground": true,
            "ticks": "",
            "zerolinecolor": "white"
           }
          },
          "shapedefaults": {
           "line": {
            "color": "#2a3f5f"
           }
          },
          "ternary": {
           "aaxis": {
            "gridcolor": "white",
            "linecolor": "white",
            "ticks": ""
           },
           "baxis": {
            "gridcolor": "white",
            "linecolor": "white",
            "ticks": ""
           },
           "bgcolor": "#E5ECF6",
           "caxis": {
            "gridcolor": "white",
            "linecolor": "white",
            "ticks": ""
           }
          },
          "title": {
           "x": 0.05
          },
          "xaxis": {
           "automargin": true,
           "gridcolor": "white",
           "linecolor": "white",
           "ticks": "",
           "title": {
            "standoff": 15
           },
           "zerolinecolor": "white",
           "zerolinewidth": 2
          },
          "yaxis": {
           "automargin": true,
           "gridcolor": "white",
           "linecolor": "white",
           "ticks": "",
           "title": {
            "standoff": 15
           },
           "zerolinecolor": "white",
           "zerolinewidth": 2
          }
         }
        },
        "title": {
         "text": "Riserve di carbone per Paese (2020)"
        },
        "width": 1000
       }
      }
     },
     "metadata": {},
     "output_type": "display_data"
    }
   ],
   "source": [
    "import pandas as pd\n",
    "import numpy as np\n",
    "import plotly.express as px\n",
    "from io import StringIO\n",
    "\n",
    "# Dati forniti\n",
    "file_content = \"\"\"Entity,Code,Year,Coal reserves - Mt\n",
    "Australia,AUS,2020,150227000000\n",
    "Brazil,BRA,2020,6596000000\n",
    "Bulgaria,BGR,2020,2366000000\n",
    "Canada,CAN,2020,6582000000\n",
    "China,CHN,2020,143197000000\n",
    "Colombia,COL,2020,4554000000\n",
    "Czechia,CZE,2020,3595000000\n",
    "Germany,DEU,2020,35900000000\n",
    "Greece,GRC,2020,2876000000\n",
    "Hungary,HUN,2020,2909000000\n",
    "India,IND,2020,111052000000\n",
    "Indonesia,IDN,2020,34869000000\n",
    "Japan,JPN,2020,350000000\n",
    "Kazakhstan,KAZ,2020,25605000000\n",
    "Mexico,MEX,2020,1211000000\n",
    "Mongolia,MNG,2020,2520000000\n",
    "New Zealand,NZL,2020,7575000000\n",
    "Pakistan,PAK,2020,3064000000\n",
    "Poland,POL,2020,28395000000\n",
    "Romania,ROU,2020,291000000\n",
    "Russia,RUS,2020,162166000000\n",
    "Serbia,SRB,2020,7514000000\n",
    "South Africa,ZAF,2020,9893000000\n",
    "South Korea,KOR,2020,326000000\n",
    "Spain,ESP,2020,1187000000\n",
    "Thailand,THA,2020,1063000000\n",
    "Turkey,TUR,2020,11525000000\n",
    "Ukraine,UKR,2020,34375000000\n",
    "United Kingdom,GBR,2020,26000000\n",
    "United States,USA,2020,248941000000\n",
    "Uzbekistan,UZB,2020,1375000000\n",
    "Venezuela,VEN,2020,731000000\n",
    "Vietnam,VNM,2020,3360000000\n",
    "Zimbabwe,ZWE,2020,502000000\"\"\"\n",
    "\n",
    "# Creazione DataFrame\n",
    "df = pd.read_csv(StringIO(file_content))\n",
    "\n",
    "# Filtriamo solo le nazioni con codice ISO valido\n",
    "df = df.dropna(subset=['Code'])\n",
    "\n",
    "# Creazione mappa\n",
    "fig = px.choropleth(df,\n",
    "                    locations=\"Code\",\n",
    "                    color=\"Coal reserves - Mt\",\n",
    "                    hover_name=\"Entity\",\n",
    "                    hover_data=[\"Coal reserves - Mt\"],\n",
    "                    color_continuous_scale='YlOrBr',\n",
    "                    title=\"Riserve di carbone per Paese (2020)\",\n",
    "                    projection='natural earth')\n",
    "\n",
    "# Aggiungi questa sezione per controllo avanzato dei colori\n",
    "fig.update_layout(\n",
    "    margin={\"r\": 20, \"t\": 40, \"l\": 20, \"b\": 20},  # Margini del grafico (right, top, left, bottom)\n",
    "    width=1000,\n",
    "    height=700,\n",
    "    plot_bgcolor='#EAE0C8',\n",
    "    paper_bgcolor=\"#EAE0C8\",\n",
    "    coloraxis=dict(\n",
    "        cmin=1e7,  # Valore minimo per la scala dei colori\n",
    "        cmax=3e11, # Valore massimo per la scala dei colori\n",
    "        colorscale='YlOrBr', # Alternative: 'Hot', 'Reds', 'Plasma'\n",
    "        colorbar=dict(\n",
    "            title=\"Milioni di tonnellate\",\n",
    "            #tickvals=[1e6, 1e8, 1e9, 1e10, 1e11], # Valori espliciti per la barra\n",
    "            #ticktext=[\"1,000,000\", \"10,000,000\", \"100,000,000\"] # Etichette personalizzate\n",
    "        )\n",
    "    )\n",
    ")\n",
    "\n",
    "# Per una scala logaritmica (utile per grandi variazioni)\n",
    "#fig.update_traces(marker_opacity=0.8, \n",
    "#                  selector=dict(type='choropleth'),\n",
    "#                  zmin=1e6, \n",
    "#                  zmax=1e12,\n",
    "#                  z=np.log10(df['Coal reserves - Mt'])) # Trasformazione logaritmica\n",
    "fig.show()"
   ]
  },
  {
   "cell_type": "code",
   "execution_count": 61,
   "metadata": {},
   "outputs": [
    {
     "data": {
      "application/vnd.plotly.v1+json": {
       "config": {
        "plotlyServerURL": "https://plot.ly"
       },
       "data": [
        {
         "coloraxis": "coloraxis",
         "customdata": [
          [
           2279200000000
          ],
          [
           385567750000
          ],
          [
           2389595400000
          ],
          [
           2503652700000
          ],
          [
           64831427000
          ],
          [
           110227270000
          ],
          [
           212867680000
          ],
          [
           348528300000
          ],
          [
           222300000000
          ],
          [
           2353957700000
          ],
          [
           8398550000000
          ],
          [
           86207460000
          ],
          [
           28027957000
          ],
          [
           2137712500000
          ],
          [
           19659538000
          ],
          [
           1320443200000
          ],
          [
           1252271600000
          ],
          [
           32101378000000
          ],
          [
           3528526000000
          ],
          [
           588557700000
          ],
          [
           42397680000
          ],
          [
           2257115400000
          ],
          [
           1694800000000
          ],
          [
           1429654500000
          ],
          [
           908230600000
          ],
          [
           178069950000
          ],
          [
           432211900000
          ],
          [
           129930360000
          ],
          [
           5472979500000
          ],
          [
           1429180100000
          ],
          [
           666347500000
          ],
          [
           384786330000
          ],
          [
           163144480000
          ],
          [
           261442130000
          ],
          [
           72260090000
          ],
          [
           24665473000000
          ],
          [
           78867750000
          ],
          [
           37391524000000
          ],
          [
           6019120400000
          ],
          [
           268612500000
          ],
          [
           143084030000
          ],
          [
           289866400000
          ],
          [
           13601249000000
          ],
          [
           1091211000000
          ],
          [
           5938725000000
          ],
          [
           186979340000
          ],
          [
           12618705000000
          ],
          [
           845325000000
          ],
          [
           6260173300000
          ],
          [
           645928650000
          ],
          [
           265831020000
          ]
         ],
         "geo": "geo",
         "hovertemplate": "<b>%{hovertext}</b><br><br>Code=%{location}<br>Gas proved reserves - m³=%{z}<extra></extra>",
         "hovertext": [
          "Algeria",
          "Argentina",
          "Australia",
          "Azerbaijan",
          "Bahrain",
          "Bangladesh",
          "Bolivia",
          "Brazil",
          "Brunei",
          "Canada",
          "China",
          "Colombia",
          "Denmark",
          "Egypt",
          "Germany",
          "India",
          "Indonesia",
          "Iran",
          "Iraq",
          "Israel",
          "Italy",
          "Kazakhstan",
          "Kuwait",
          "Libya",
          "Malaysia",
          "Mexico",
          "Myanmar",
          "Netherlands",
          "Nigeria",
          "Norway",
          "Oman",
          "Pakistan",
          "Papua New Guinea",
          "Peru",
          "Poland",
          "Qatar",
          "Romania",
          "Russia",
          "Saudi Arabia",
          "Syria",
          "Thailand",
          "Trinidad and Tobago",
          "Turkmenistan",
          "Ukraine",
          "United Arab Emirates",
          "United Kingdom",
          "United States",
          "Uzbekistan",
          "Venezuela",
          "Vietnam",
          "Yemen"
         ],
         "locations": [
          "DZA",
          "ARG",
          "AUS",
          "AZE",
          "BHR",
          "BGD",
          "BOL",
          "BRA",
          "BRN",
          "CAN",
          "CHN",
          "COL",
          "DNK",
          "EGY",
          "DEU",
          "IND",
          "IDN",
          "IRN",
          "IRQ",
          "ISR",
          "ITA",
          "KAZ",
          "KWT",
          "LBY",
          "MYS",
          "MEX",
          "MMR",
          "NLD",
          "NGA",
          "NOR",
          "OMN",
          "PAK",
          "PNG",
          "PER",
          "POL",
          "QAT",
          "ROU",
          "RUS",
          "SAU",
          "SYR",
          "THA",
          "TTO",
          "TKM",
          "UKR",
          "ARE",
          "GBR",
          "USA",
          "UZB",
          "VEN",
          "VNM",
          "YEM"
         ],
         "name": "",
         "type": "choropleth",
         "z": [
          2279200000000,
          385567750000,
          2389595400000,
          2503652700000,
          64831427000,
          110227270000,
          212867680000,
          348528300000,
          222300000000,
          2353957700000,
          8398550000000,
          86207460000,
          28027957000,
          2137712500000,
          19659538000,
          1320443200000,
          1252271600000,
          32101378000000,
          3528526000000,
          588557700000,
          42397680000,
          2257115400000,
          1694800000000,
          1429654500000,
          908230600000,
          178069950000,
          432211900000,
          129930360000,
          5472979500000,
          1429180100000,
          666347500000,
          384786330000,
          163144480000,
          261442130000,
          72260090000,
          24665473000000,
          78867750000,
          37391524000000,
          6019120400000,
          268612500000,
          143084030000,
          289866400000,
          13601249000000,
          1091211000000,
          5938725000000,
          186979340000,
          12618705000000,
          845325000000,
          6260173300000,
          645928650000,
          265831020000
         ]
        }
       ],
       "layout": {
        "coloraxis": {
         "cmax": 30000000000000,
         "cmin": 10000000,
         "colorbar": {
          "title": {
           "text": "Trilion of m³"
          }
         },
         "colorscale": [
          [
           0,
           "rgb(255,255,229)"
          ],
          [
           0.125,
           "rgb(255,247,188)"
          ],
          [
           0.25,
           "rgb(254,227,145)"
          ],
          [
           0.375,
           "rgb(254,196,79)"
          ],
          [
           0.5,
           "rgb(254,153,41)"
          ],
          [
           0.625,
           "rgb(236,112,20)"
          ],
          [
           0.75,
           "rgb(204,76,2)"
          ],
          [
           0.875,
           "rgb(153,52,4)"
          ],
          [
           1,
           "rgb(102,37,6)"
          ]
         ]
        },
        "geo": {
         "center": {},
         "domain": {
          "x": [
           0,
           1
          ],
          "y": [
           0,
           1
          ]
         },
         "projection": {
          "type": "natural earth"
         }
        },
        "height": 700,
        "legend": {
         "tracegroupgap": 0
        },
        "margin": {
         "b": 20,
         "l": 20,
         "r": 20,
         "t": 40
        },
        "paper_bgcolor": "#EAE0C8",
        "plot_bgcolor": "#EAE0C8",
        "template": {
         "data": {
          "bar": [
           {
            "error_x": {
             "color": "#2a3f5f"
            },
            "error_y": {
             "color": "#2a3f5f"
            },
            "marker": {
             "line": {
              "color": "#E5ECF6",
              "width": 0.5
             },
             "pattern": {
              "fillmode": "overlay",
              "size": 10,
              "solidity": 0.2
             }
            },
            "type": "bar"
           }
          ],
          "barpolar": [
           {
            "marker": {
             "line": {
              "color": "#E5ECF6",
              "width": 0.5
             },
             "pattern": {
              "fillmode": "overlay",
              "size": 10,
              "solidity": 0.2
             }
            },
            "type": "barpolar"
           }
          ],
          "carpet": [
           {
            "aaxis": {
             "endlinecolor": "#2a3f5f",
             "gridcolor": "white",
             "linecolor": "white",
             "minorgridcolor": "white",
             "startlinecolor": "#2a3f5f"
            },
            "baxis": {
             "endlinecolor": "#2a3f5f",
             "gridcolor": "white",
             "linecolor": "white",
             "minorgridcolor": "white",
             "startlinecolor": "#2a3f5f"
            },
            "type": "carpet"
           }
          ],
          "choropleth": [
           {
            "colorbar": {
             "outlinewidth": 0,
             "ticks": ""
            },
            "type": "choropleth"
           }
          ],
          "contour": [
           {
            "colorbar": {
             "outlinewidth": 0,
             "ticks": ""
            },
            "colorscale": [
             [
              0,
              "#0d0887"
             ],
             [
              0.1111111111111111,
              "#46039f"
             ],
             [
              0.2222222222222222,
              "#7201a8"
             ],
             [
              0.3333333333333333,
              "#9c179e"
             ],
             [
              0.4444444444444444,
              "#bd3786"
             ],
             [
              0.5555555555555556,
              "#d8576b"
             ],
             [
              0.6666666666666666,
              "#ed7953"
             ],
             [
              0.7777777777777778,
              "#fb9f3a"
             ],
             [
              0.8888888888888888,
              "#fdca26"
             ],
             [
              1,
              "#f0f921"
             ]
            ],
            "type": "contour"
           }
          ],
          "contourcarpet": [
           {
            "colorbar": {
             "outlinewidth": 0,
             "ticks": ""
            },
            "type": "contourcarpet"
           }
          ],
          "heatmap": [
           {
            "colorbar": {
             "outlinewidth": 0,
             "ticks": ""
            },
            "colorscale": [
             [
              0,
              "#0d0887"
             ],
             [
              0.1111111111111111,
              "#46039f"
             ],
             [
              0.2222222222222222,
              "#7201a8"
             ],
             [
              0.3333333333333333,
              "#9c179e"
             ],
             [
              0.4444444444444444,
              "#bd3786"
             ],
             [
              0.5555555555555556,
              "#d8576b"
             ],
             [
              0.6666666666666666,
              "#ed7953"
             ],
             [
              0.7777777777777778,
              "#fb9f3a"
             ],
             [
              0.8888888888888888,
              "#fdca26"
             ],
             [
              1,
              "#f0f921"
             ]
            ],
            "type": "heatmap"
           }
          ],
          "histogram": [
           {
            "marker": {
             "pattern": {
              "fillmode": "overlay",
              "size": 10,
              "solidity": 0.2
             }
            },
            "type": "histogram"
           }
          ],
          "histogram2d": [
           {
            "colorbar": {
             "outlinewidth": 0,
             "ticks": ""
            },
            "colorscale": [
             [
              0,
              "#0d0887"
             ],
             [
              0.1111111111111111,
              "#46039f"
             ],
             [
              0.2222222222222222,
              "#7201a8"
             ],
             [
              0.3333333333333333,
              "#9c179e"
             ],
             [
              0.4444444444444444,
              "#bd3786"
             ],
             [
              0.5555555555555556,
              "#d8576b"
             ],
             [
              0.6666666666666666,
              "#ed7953"
             ],
             [
              0.7777777777777778,
              "#fb9f3a"
             ],
             [
              0.8888888888888888,
              "#fdca26"
             ],
             [
              1,
              "#f0f921"
             ]
            ],
            "type": "histogram2d"
           }
          ],
          "histogram2dcontour": [
           {
            "colorbar": {
             "outlinewidth": 0,
             "ticks": ""
            },
            "colorscale": [
             [
              0,
              "#0d0887"
             ],
             [
              0.1111111111111111,
              "#46039f"
             ],
             [
              0.2222222222222222,
              "#7201a8"
             ],
             [
              0.3333333333333333,
              "#9c179e"
             ],
             [
              0.4444444444444444,
              "#bd3786"
             ],
             [
              0.5555555555555556,
              "#d8576b"
             ],
             [
              0.6666666666666666,
              "#ed7953"
             ],
             [
              0.7777777777777778,
              "#fb9f3a"
             ],
             [
              0.8888888888888888,
              "#fdca26"
             ],
             [
              1,
              "#f0f921"
             ]
            ],
            "type": "histogram2dcontour"
           }
          ],
          "mesh3d": [
           {
            "colorbar": {
             "outlinewidth": 0,
             "ticks": ""
            },
            "type": "mesh3d"
           }
          ],
          "parcoords": [
           {
            "line": {
             "colorbar": {
              "outlinewidth": 0,
              "ticks": ""
             }
            },
            "type": "parcoords"
           }
          ],
          "pie": [
           {
            "automargin": true,
            "type": "pie"
           }
          ],
          "scatter": [
           {
            "fillpattern": {
             "fillmode": "overlay",
             "size": 10,
             "solidity": 0.2
            },
            "type": "scatter"
           }
          ],
          "scatter3d": [
           {
            "line": {
             "colorbar": {
              "outlinewidth": 0,
              "ticks": ""
             }
            },
            "marker": {
             "colorbar": {
              "outlinewidth": 0,
              "ticks": ""
             }
            },
            "type": "scatter3d"
           }
          ],
          "scattercarpet": [
           {
            "marker": {
             "colorbar": {
              "outlinewidth": 0,
              "ticks": ""
             }
            },
            "type": "scattercarpet"
           }
          ],
          "scattergeo": [
           {
            "marker": {
             "colorbar": {
              "outlinewidth": 0,
              "ticks": ""
             }
            },
            "type": "scattergeo"
           }
          ],
          "scattergl": [
           {
            "marker": {
             "colorbar": {
              "outlinewidth": 0,
              "ticks": ""
             }
            },
            "type": "scattergl"
           }
          ],
          "scattermap": [
           {
            "marker": {
             "colorbar": {
              "outlinewidth": 0,
              "ticks": ""
             }
            },
            "type": "scattermap"
           }
          ],
          "scattermapbox": [
           {
            "marker": {
             "colorbar": {
              "outlinewidth": 0,
              "ticks": ""
             }
            },
            "type": "scattermapbox"
           }
          ],
          "scatterpolar": [
           {
            "marker": {
             "colorbar": {
              "outlinewidth": 0,
              "ticks": ""
             }
            },
            "type": "scatterpolar"
           }
          ],
          "scatterpolargl": [
           {
            "marker": {
             "colorbar": {
              "outlinewidth": 0,
              "ticks": ""
             }
            },
            "type": "scatterpolargl"
           }
          ],
          "scatterternary": [
           {
            "marker": {
             "colorbar": {
              "outlinewidth": 0,
              "ticks": ""
             }
            },
            "type": "scatterternary"
           }
          ],
          "surface": [
           {
            "colorbar": {
             "outlinewidth": 0,
             "ticks": ""
            },
            "colorscale": [
             [
              0,
              "#0d0887"
             ],
             [
              0.1111111111111111,
              "#46039f"
             ],
             [
              0.2222222222222222,
              "#7201a8"
             ],
             [
              0.3333333333333333,
              "#9c179e"
             ],
             [
              0.4444444444444444,
              "#bd3786"
             ],
             [
              0.5555555555555556,
              "#d8576b"
             ],
             [
              0.6666666666666666,
              "#ed7953"
             ],
             [
              0.7777777777777778,
              "#fb9f3a"
             ],
             [
              0.8888888888888888,
              "#fdca26"
             ],
             [
              1,
              "#f0f921"
             ]
            ],
            "type": "surface"
           }
          ],
          "table": [
           {
            "cells": {
             "fill": {
              "color": "#EBF0F8"
             },
             "line": {
              "color": "white"
             }
            },
            "header": {
             "fill": {
              "color": "#C8D4E3"
             },
             "line": {
              "color": "white"
             }
            },
            "type": "table"
           }
          ]
         },
         "layout": {
          "annotationdefaults": {
           "arrowcolor": "#2a3f5f",
           "arrowhead": 0,
           "arrowwidth": 1
          },
          "autotypenumbers": "strict",
          "coloraxis": {
           "colorbar": {
            "outlinewidth": 0,
            "ticks": ""
           }
          },
          "colorscale": {
           "diverging": [
            [
             0,
             "#8e0152"
            ],
            [
             0.1,
             "#c51b7d"
            ],
            [
             0.2,
             "#de77ae"
            ],
            [
             0.3,
             "#f1b6da"
            ],
            [
             0.4,
             "#fde0ef"
            ],
            [
             0.5,
             "#f7f7f7"
            ],
            [
             0.6,
             "#e6f5d0"
            ],
            [
             0.7,
             "#b8e186"
            ],
            [
             0.8,
             "#7fbc41"
            ],
            [
             0.9,
             "#4d9221"
            ],
            [
             1,
             "#276419"
            ]
           ],
           "sequential": [
            [
             0,
             "#0d0887"
            ],
            [
             0.1111111111111111,
             "#46039f"
            ],
            [
             0.2222222222222222,
             "#7201a8"
            ],
            [
             0.3333333333333333,
             "#9c179e"
            ],
            [
             0.4444444444444444,
             "#bd3786"
            ],
            [
             0.5555555555555556,
             "#d8576b"
            ],
            [
             0.6666666666666666,
             "#ed7953"
            ],
            [
             0.7777777777777778,
             "#fb9f3a"
            ],
            [
             0.8888888888888888,
             "#fdca26"
            ],
            [
             1,
             "#f0f921"
            ]
           ],
           "sequentialminus": [
            [
             0,
             "#0d0887"
            ],
            [
             0.1111111111111111,
             "#46039f"
            ],
            [
             0.2222222222222222,
             "#7201a8"
            ],
            [
             0.3333333333333333,
             "#9c179e"
            ],
            [
             0.4444444444444444,
             "#bd3786"
            ],
            [
             0.5555555555555556,
             "#d8576b"
            ],
            [
             0.6666666666666666,
             "#ed7953"
            ],
            [
             0.7777777777777778,
             "#fb9f3a"
            ],
            [
             0.8888888888888888,
             "#fdca26"
            ],
            [
             1,
             "#f0f921"
            ]
           ]
          },
          "colorway": [
           "#636efa",
           "#EF553B",
           "#00cc96",
           "#ab63fa",
           "#FFA15A",
           "#19d3f3",
           "#FF6692",
           "#B6E880",
           "#FF97FF",
           "#FECB52"
          ],
          "font": {
           "color": "#2a3f5f"
          },
          "geo": {
           "bgcolor": "white",
           "lakecolor": "white",
           "landcolor": "#E5ECF6",
           "showlakes": true,
           "showland": true,
           "subunitcolor": "white"
          },
          "hoverlabel": {
           "align": "left"
          },
          "hovermode": "closest",
          "mapbox": {
           "style": "light"
          },
          "paper_bgcolor": "white",
          "plot_bgcolor": "#E5ECF6",
          "polar": {
           "angularaxis": {
            "gridcolor": "white",
            "linecolor": "white",
            "ticks": ""
           },
           "bgcolor": "#E5ECF6",
           "radialaxis": {
            "gridcolor": "white",
            "linecolor": "white",
            "ticks": ""
           }
          },
          "scene": {
           "xaxis": {
            "backgroundcolor": "#E5ECF6",
            "gridcolor": "white",
            "gridwidth": 2,
            "linecolor": "white",
            "showbackground": true,
            "ticks": "",
            "zerolinecolor": "white"
           },
           "yaxis": {
            "backgroundcolor": "#E5ECF6",
            "gridcolor": "white",
            "gridwidth": 2,
            "linecolor": "white",
            "showbackground": true,
            "ticks": "",
            "zerolinecolor": "white"
           },
           "zaxis": {
            "backgroundcolor": "#E5ECF6",
            "gridcolor": "white",
            "gridwidth": 2,
            "linecolor": "white",
            "showbackground": true,
            "ticks": "",
            "zerolinecolor": "white"
           }
          },
          "shapedefaults": {
           "line": {
            "color": "#2a3f5f"
           }
          },
          "ternary": {
           "aaxis": {
            "gridcolor": "white",
            "linecolor": "white",
            "ticks": ""
           },
           "baxis": {
            "gridcolor": "white",
            "linecolor": "white",
            "ticks": ""
           },
           "bgcolor": "#E5ECF6",
           "caxis": {
            "gridcolor": "white",
            "linecolor": "white",
            "ticks": ""
           }
          },
          "title": {
           "x": 0.05
          },
          "xaxis": {
           "automargin": true,
           "gridcolor": "white",
           "linecolor": "white",
           "ticks": "",
           "title": {
            "standoff": 15
           },
           "zerolinecolor": "white",
           "zerolinewidth": 2
          },
          "yaxis": {
           "automargin": true,
           "gridcolor": "white",
           "linecolor": "white",
           "ticks": "",
           "title": {
            "standoff": 15
           },
           "zerolinecolor": "white",
           "zerolinewidth": 2
          }
         }
        },
        "title": {
         "text": "Riserve di gas (2020)"
        },
        "width": 1000
       }
      }
     },
     "metadata": {},
     "output_type": "display_data"
    }
   ],
   "source": [
    "import pandas as pd\n",
    "import numpy as np\n",
    "import plotly.express as px\n",
    "from io import StringIO\n",
    "\n",
    "# Dati forniti\n",
    "file_content = \"\"\"Entity,Code,Year,Gas proved reserves - m³,time\n",
    "Algeria,DZA,2020,2279200000000,2020\n",
    "Argentina,ARG,2020,385567750000,2020\n",
    "Australia,AUS,2020,2389595400000,2020\n",
    "Azerbaijan,AZE,2020,2503652700000,2020\n",
    "Bahrain,BHR,2020,64831427000,2020\n",
    "Bangladesh,BGD,2020,110227270000,2020\n",
    "Bolivia,BOL,2020,212867680000,2020\n",
    "Brazil,BRA,2020,348528300000,2020\n",
    "Brunei,BRN,2020,222300000000,2020\n",
    "Canada,CAN,2020,2353957700000,2020\n",
    "China,CHN,2020,8398550000000,2020\n",
    "Colombia,COL,2020,86207460000,2020\n",
    "Denmark,DNK,2020,28027957000,2020\n",
    "Egypt,EGY,2020,2137712500000,2020\n",
    "Germany,DEU,2020,19659538000,2020\n",
    "India,IND,2020,1320443200000,2020\n",
    "Indonesia,IDN,2020,1252271600000,2020\n",
    "Iran,IRN,2020,32101378000000,2020\n",
    "Iraq,IRQ,2020,3528526000000,2020\n",
    "Israel,ISR,2020,588557700000,2020\n",
    "Italy,ITA,2020,42397680000,2020\n",
    "Kazakhstan,KAZ,2020,2257115400000,2020\n",
    "Kuwait,KWT,2020,1694800000000,2020\n",
    "Libya,LBY,2020,1429654500000,2020\n",
    "Malaysia,MYS,2020,908230600000,2020\n",
    "Mexico,MEX,2020,178069950000,2020\n",
    "Myanmar,MMR,2020,432211900000,2020\n",
    "Netherlands,NLD,2020,129930360000,2020\n",
    "Nigeria,NGA,2020,5472979500000,2020\n",
    "Norway,NOR,2020,1429180100000,2020\n",
    "Oman,OMN,2020,666347500000,2020\n",
    "Pakistan,PAK,2020,384786330000,2020\n",
    "Papua New Guinea,PNG,2020,163144480000,2020\n",
    "Peru,PER,2020,261442130000,2020\n",
    "Poland,POL,2020,72260090000,2020\n",
    "Qatar,QAT,2020,24665473000000,2020\n",
    "Romania,ROU,2020,78867750000,2020\n",
    "Russia,RUS,2020,37391524000000,2020\n",
    "Saudi Arabia,SAU,2020,6019120400000,2020\n",
    "Syria,SYR,2020,268612500000,2020\n",
    "Thailand,THA,2020,143084030000,2020\n",
    "Trinidad and Tobago,TTO,2020,289866400000,2020\n",
    "Turkmenistan,TKM,2020,13601249000000,2020\n",
    "Ukraine,UKR,2020,1091211000000,2020\n",
    "United Arab Emirates,ARE,2020,5938725000000,2020\n",
    "United Kingdom,GBR,2020,186979340000,2020\n",
    "United States,USA,2020,12618705000000,2020\n",
    "Uzbekistan,UZB,2020,845325000000,2020\n",
    "Venezuela,VEN,2020,6260173300000,2020\n",
    "Vietnam,VNM,2020,645928650000,2020\n",
    "Yemen,YEM,2020,265831020000,2020\"\"\"\n",
    "\n",
    "# Creazione DataFrame\n",
    "df = pd.read_csv(StringIO(file_content))\n",
    "\n",
    "# Filtriamo solo le nazioni con codice ISO valido\n",
    "df = df.dropna(subset=['Code'])\n",
    "\n",
    "# Creazione mappa\n",
    "fig = px.choropleth(df,\n",
    "                    locations=\"Code\",\n",
    "                    color=\"Gas proved reserves - m³\",\n",
    "                    hover_name=\"Entity\",\n",
    "                    hover_data=[\"Gas proved reserves - m³\"],\n",
    "                    color_continuous_scale='YlOrBr',\n",
    "                    title=\"Riserve di gas (2020)\",\n",
    "                    projection='natural earth')\n",
    "\n",
    "# Aggiungi questa sezione per controllo avanzato dei colori\n",
    "fig.update_layout(\n",
    "    margin={\"r\": 20, \"t\": 40, \"l\": 20, \"b\": 20},  # Margini del grafico (right, top, left, bottom)\n",
    "    width=1000,\n",
    "    height=700,\n",
    "    plot_bgcolor='#EAE0C8',\n",
    "    paper_bgcolor=\"#EAE0C8\",\n",
    "    coloraxis=dict(\n",
    "        cmin=1e7,  # Valore minimo per la scala dei colori\n",
    "        cmax=3e13, # Valore massimo per la scala dei colori\n",
    "        colorscale='YlOrBr', # Alternative: 'Hot', 'Reds', 'Plasma'\n",
    "        colorbar=dict(\n",
    "            title=\"Trilion of m³\",\n",
    "            #tickvals=[1e6, 1e8, 1e9, 1e10, 1e11], # Valori espliciti per la barra\n",
    "            #ticktext=[\"1,000,000\", \"10,000,000\", \"100,000,000\"] # Etichette personalizzate\n",
    "        )\n",
    "    )\n",
    ")\n",
    "\n",
    "# Per una scala logaritmica (utile per grandi variazioni)\n",
    "#fig.update_traces(marker_opacity=0.8, \n",
    "#                  selector=dict(type='choropleth'),\n",
    "#                  zmin=1e6, \n",
    "#                  zmax=1e12,\n",
    "#                  z=np.log10(df['Coal reserves - Mt'])) # Trasformazione logaritmica\n",
    "fig.show()"
   ]
  },
  {
   "cell_type": "code",
   "execution_count": 1,
   "metadata": {},
   "outputs": [
    {
     "data": {
      "application/vnd.plotly.v1+json": {
       "config": {
        "plotlyServerURL": "https://plot.ly"
       },
       "data": [
        {
         "coloraxis": "coloraxis",
         "customdata": [
          [
           299953000000
          ],
          [
           266578000000
          ],
          [
           170863000000
          ],
          [
           157530000000
          ],
          [
           143069000000
          ],
          [
           101500000000
          ],
          [
           97800000000
          ],
          [
           80000000000
          ],
          [
           48363000000
          ],
          [
           37070000000
          ],
          [
           35230000000
          ],
          [
           30000000000
          ],
          [
           252440000000
          ],
          [
           25132122000
          ],
          [
           16184100000
          ],
          [
           12200000000
          ],
          [
           9711000000
          ],
          [
           8423000000
          ],
          [
           8273000000
          ],
          [
           7000000000
          ],
          [
           5306000000
          ],
          [
           5138767000
          ],
          [
           5000000000
          ],
          [
           4728790000
          ],
          [
           4400000000
          ],
          [
           4400000000
          ],
          [
           3692500000
          ],
          [
           3600000000
          ],
          [
           3000000000
          ],
          [
           2754685000
          ],
          [
           2500000000
          ],
          [
           2500000000
          ],
          [
           2379702000
          ],
          [
           2308000000
          ],
          [
           2000000000
          ],
          [
           1600000000
          ],
          [
           1500000000
          ],
          [
           1193000000
          ],
          [
           1100000000
          ],
          [
           1100000000
          ],
          [
           728300000
          ],
          [
           682681000
          ],
          [
           660000000
          ],
          [
           600000000
          ],
          [
           600000000
          ],
          [
           594000000
          ],
          [
           579232000
          ],
          [
           551000000
          ],
          [
           425000000
          ],
          [
           404890000
          ],
          [
           395000000
          ],
          [
           353500000
          ],
          [
           312000000
          ],
          [
           211450000
          ],
          [
           200000000
          ],
          [
           198000000
          ],
          [
           180249000
          ],
          [
           180000000
          ],
          [
           168332000
          ],
          [
           150000000
          ],
          [
           150000000
          ],
          [
           150000000
          ],
          [
           140892000
          ],
          [
           138500000
          ],
          [
           137752000
          ],
          [
           132480000
          ],
          [
           124560000
          ],
          [
           124000000
          ],
          [
           99980000
          ],
          [
           100000000
          ],
          [
           83070000
          ],
          [
           78431000
          ],
          [
           77500000
          ],
          [
           71000000
          ],
          [
           64100000
          ],
          [
           50000000
          ],
          [
           45400000
          ],
          [
           44115000
          ],
          [
           40000000
          ],
          [
           35000000
          ],
          [
           28600000
          ],
          [
           28000000
          ],
          [
           20000000
          ],
          [
           15000000
          ],
          [
           15000000
          ],
          [
           15000000
          ],
          [
           13953000
          ],
          [
           12000000
          ],
          [
           12000000
          ],
          [
           10000000
          ],
          [
           9000000
          ],
          [
           8000000
          ],
          [
           6700000
          ],
          [
           2380000
          ],
          [
           2315000
          ],
          [
           1000000
          ],
          [
           684000
          ],
          [
           428000
          ]
         ],
         "geo": "geo",
         "hovertemplate": "<b>%{hovertext}</b><br><br>Code=%{location}<br>Barili=%{z}<extra></extra>",
         "hovertext": [
          "Venezuela",
          "Saudi Arabia",
          "Canada",
          "Iran",
          "Iraq",
          "Kuwait",
          "United Arab Emirates",
          "Russia",
          "Libya",
          "Nigeria",
          "United States",
          "Kazakhstan",
          "Qatar",
          "China",
          "Brazil",
          "Algeria",
          "Mexico",
          "Angola",
          "Ecuador",
          "Azerbaijan",
          "Oman",
          "Norway",
          "Sudan",
          "India",
          "Vietnam",
          "Egypt",
          "Indonesia",
          "Malaysia",
          "Yemen",
          "United Kingdom",
          "Syria",
          "Uganda",
          "Argentina",
          "Colombia",
          "Gabon",
          "Congo",
          "Chad",
          "Australia",
          "Brunei",
          "Equatorial Guinea",
          "Trinidad and Tobago",
          "Peru",
          "Ghana",
          "Turkmenistan",
          "Romania",
          "Uzbekistan",
          "Italy",
          "Denmark",
          "Tunisia",
          "Thailand",
          "Ukraine",
          "Pakistan",
          "Turkey",
          "Bolivia",
          "Cameroon",
          "Belarus",
          "Papua New Guinea",
          "DR Congo",
          "Albania",
          "Chile",
          "Niger",
          "Spain",
          "Netherlands",
          "Philippines",
          "Poland",
          "Germany",
          "Bahrain",
          "Cuba",
          "Suriname",
          "Côte d'Ivoire",
          "Guatemala",
          "France",
          "Serbia",
          "Croatia",
          "New Zealand",
          "Myanmar",
          "Austria",
          "Japan",
          "Kyrgyzstan",
          "Georgia",
          "Hungary",
          "Bangladesh",
          "Mauritania",
          "Bulgaria",
          "Czech Republic (Czechia)",
          "South Africa",
          "Israel",
          "Lithuania",
          "Tajikistan",
          "Greece",
          "Slovakia",
          "Benin",
          "Belize",
          "Taiwan",
          "Barbados",
          "Jordan",
          "Morocco",
          "Ethiopia"
         ],
         "locations": [
          "VEN",
          "SAU",
          "CAN",
          "IRN",
          "IRQ",
          "KWT",
          "ARE",
          "RUS",
          "LBY",
          "NGA",
          "USA",
          "KAZ",
          "QAT",
          "CHN",
          "BRA",
          "DZA",
          "MEX",
          "AGO",
          "ECU",
          "AZE",
          "OMN",
          "NOR",
          "SDN",
          "IND",
          "VNM",
          "EGY",
          "IDN",
          "MYS",
          "YEM",
          "GBR",
          "SYR",
          "UGA",
          "ARG",
          "COL",
          "GAB",
          "COG",
          "TCD",
          "AUS",
          "BRN",
          "GNQ",
          "TTO",
          "PER",
          "GHA",
          "TKM",
          "ROU",
          "UZB",
          "ITA",
          "DNK",
          "TUN",
          "THA",
          "UKR",
          "PAK",
          "TUR",
          "BOL",
          "CMR",
          "BLR",
          "PNG",
          "COD",
          "ALB",
          "CHL",
          "NER",
          "ESP",
          "NLD",
          "PHL",
          "POL",
          "DEU",
          "BHR",
          "CUB",
          "SUR",
          "CIV",
          "GTM",
          "FRA",
          "SRB",
          "HRV",
          "NZL",
          "MMR",
          "AUT",
          "JPN",
          "KGZ",
          "GEO",
          "HUN",
          "BGD",
          "MRT",
          "BGR",
          "CZE",
          "ZAF",
          "ISR",
          "LTU",
          "TJK",
          "GRC",
          "SVK",
          "BEN",
          "BLZ",
          "TWN",
          "BRB",
          "JOR",
          "MAR",
          "ETH"
         ],
         "name": "",
         "type": "choropleth",
         "z": [
          299953000000,
          266578000000,
          170863000000,
          157530000000,
          143069000000,
          101500000000,
          97800000000,
          80000000000,
          48363000000,
          37070000000,
          35230000000,
          30000000000,
          252440000000,
          25132122000,
          16184100000,
          12200000000,
          9711000000,
          8423000000,
          8273000000,
          7000000000,
          5306000000,
          5138767000,
          5000000000,
          4728790000,
          4400000000,
          4400000000,
          3692500000,
          3600000000,
          3000000000,
          2754685000,
          2500000000,
          2500000000,
          2379702000,
          2308000000,
          2000000000,
          1600000000,
          1500000000,
          1193000000,
          1100000000,
          1100000000,
          728300000,
          682681000,
          660000000,
          600000000,
          600000000,
          594000000,
          579232000,
          551000000,
          425000000,
          404890000,
          395000000,
          353500000,
          312000000,
          211450000,
          200000000,
          198000000,
          180249000,
          180000000,
          168332000,
          150000000,
          150000000,
          150000000,
          140892000,
          138500000,
          137752000,
          132480000,
          124560000,
          124000000,
          99980000,
          100000000,
          83070000,
          78431000,
          77500000,
          71000000,
          64100000,
          50000000,
          45400000,
          44115000,
          40000000,
          35000000,
          28600000,
          28000000,
          20000000,
          15000000,
          15000000,
          15000000,
          13953000,
          12000000,
          12000000,
          10000000,
          9000000,
          8000000,
          6700000,
          2380000,
          2315000,
          1000000,
          684000,
          428000
         ]
        }
       ],
       "layout": {
        "coloraxis": {
         "cmax": 200000000000,
         "cmin": 10000000,
         "colorbar": {
          "title": {
           "text": "Bilion of barrels"
          }
         },
         "colorscale": [
          [
           0,
           "rgb(255,255,229)"
          ],
          [
           0.125,
           "rgb(255,247,188)"
          ],
          [
           0.25,
           "rgb(254,227,145)"
          ],
          [
           0.375,
           "rgb(254,196,79)"
          ],
          [
           0.5,
           "rgb(254,153,41)"
          ],
          [
           0.625,
           "rgb(236,112,20)"
          ],
          [
           0.75,
           "rgb(204,76,2)"
          ],
          [
           0.875,
           "rgb(153,52,4)"
          ],
          [
           1,
           "rgb(102,37,6)"
          ]
         ]
        },
        "geo": {
         "center": {},
         "domain": {
          "x": [
           0,
           1
          ],
          "y": [
           0,
           1
          ]
         },
         "projection": {
          "type": "natural earth"
         }
        },
        "height": 700,
        "legend": {
         "tracegroupgap": 0
        },
        "margin": {
         "b": 20,
         "l": 20,
         "r": 20,
         "t": 40
        },
        "paper_bgcolor": "#EAE0C8",
        "plot_bgcolor": "#EAE0C8",
        "template": {
         "data": {
          "bar": [
           {
            "error_x": {
             "color": "#2a3f5f"
            },
            "error_y": {
             "color": "#2a3f5f"
            },
            "marker": {
             "line": {
              "color": "#E5ECF6",
              "width": 0.5
             },
             "pattern": {
              "fillmode": "overlay",
              "size": 10,
              "solidity": 0.2
             }
            },
            "type": "bar"
           }
          ],
          "barpolar": [
           {
            "marker": {
             "line": {
              "color": "#E5ECF6",
              "width": 0.5
             },
             "pattern": {
              "fillmode": "overlay",
              "size": 10,
              "solidity": 0.2
             }
            },
            "type": "barpolar"
           }
          ],
          "carpet": [
           {
            "aaxis": {
             "endlinecolor": "#2a3f5f",
             "gridcolor": "white",
             "linecolor": "white",
             "minorgridcolor": "white",
             "startlinecolor": "#2a3f5f"
            },
            "baxis": {
             "endlinecolor": "#2a3f5f",
             "gridcolor": "white",
             "linecolor": "white",
             "minorgridcolor": "white",
             "startlinecolor": "#2a3f5f"
            },
            "type": "carpet"
           }
          ],
          "choropleth": [
           {
            "colorbar": {
             "outlinewidth": 0,
             "ticks": ""
            },
            "type": "choropleth"
           }
          ],
          "contour": [
           {
            "colorbar": {
             "outlinewidth": 0,
             "ticks": ""
            },
            "colorscale": [
             [
              0,
              "#0d0887"
             ],
             [
              0.1111111111111111,
              "#46039f"
             ],
             [
              0.2222222222222222,
              "#7201a8"
             ],
             [
              0.3333333333333333,
              "#9c179e"
             ],
             [
              0.4444444444444444,
              "#bd3786"
             ],
             [
              0.5555555555555556,
              "#d8576b"
             ],
             [
              0.6666666666666666,
              "#ed7953"
             ],
             [
              0.7777777777777778,
              "#fb9f3a"
             ],
             [
              0.8888888888888888,
              "#fdca26"
             ],
             [
              1,
              "#f0f921"
             ]
            ],
            "type": "contour"
           }
          ],
          "contourcarpet": [
           {
            "colorbar": {
             "outlinewidth": 0,
             "ticks": ""
            },
            "type": "contourcarpet"
           }
          ],
          "heatmap": [
           {
            "colorbar": {
             "outlinewidth": 0,
             "ticks": ""
            },
            "colorscale": [
             [
              0,
              "#0d0887"
             ],
             [
              0.1111111111111111,
              "#46039f"
             ],
             [
              0.2222222222222222,
              "#7201a8"
             ],
             [
              0.3333333333333333,
              "#9c179e"
             ],
             [
              0.4444444444444444,
              "#bd3786"
             ],
             [
              0.5555555555555556,
              "#d8576b"
             ],
             [
              0.6666666666666666,
              "#ed7953"
             ],
             [
              0.7777777777777778,
              "#fb9f3a"
             ],
             [
              0.8888888888888888,
              "#fdca26"
             ],
             [
              1,
              "#f0f921"
             ]
            ],
            "type": "heatmap"
           }
          ],
          "histogram": [
           {
            "marker": {
             "pattern": {
              "fillmode": "overlay",
              "size": 10,
              "solidity": 0.2
             }
            },
            "type": "histogram"
           }
          ],
          "histogram2d": [
           {
            "colorbar": {
             "outlinewidth": 0,
             "ticks": ""
            },
            "colorscale": [
             [
              0,
              "#0d0887"
             ],
             [
              0.1111111111111111,
              "#46039f"
             ],
             [
              0.2222222222222222,
              "#7201a8"
             ],
             [
              0.3333333333333333,
              "#9c179e"
             ],
             [
              0.4444444444444444,
              "#bd3786"
             ],
             [
              0.5555555555555556,
              "#d8576b"
             ],
             [
              0.6666666666666666,
              "#ed7953"
             ],
             [
              0.7777777777777778,
              "#fb9f3a"
             ],
             [
              0.8888888888888888,
              "#fdca26"
             ],
             [
              1,
              "#f0f921"
             ]
            ],
            "type": "histogram2d"
           }
          ],
          "histogram2dcontour": [
           {
            "colorbar": {
             "outlinewidth": 0,
             "ticks": ""
            },
            "colorscale": [
             [
              0,
              "#0d0887"
             ],
             [
              0.1111111111111111,
              "#46039f"
             ],
             [
              0.2222222222222222,
              "#7201a8"
             ],
             [
              0.3333333333333333,
              "#9c179e"
             ],
             [
              0.4444444444444444,
              "#bd3786"
             ],
             [
              0.5555555555555556,
              "#d8576b"
             ],
             [
              0.6666666666666666,
              "#ed7953"
             ],
             [
              0.7777777777777778,
              "#fb9f3a"
             ],
             [
              0.8888888888888888,
              "#fdca26"
             ],
             [
              1,
              "#f0f921"
             ]
            ],
            "type": "histogram2dcontour"
           }
          ],
          "mesh3d": [
           {
            "colorbar": {
             "outlinewidth": 0,
             "ticks": ""
            },
            "type": "mesh3d"
           }
          ],
          "parcoords": [
           {
            "line": {
             "colorbar": {
              "outlinewidth": 0,
              "ticks": ""
             }
            },
            "type": "parcoords"
           }
          ],
          "pie": [
           {
            "automargin": true,
            "type": "pie"
           }
          ],
          "scatter": [
           {
            "fillpattern": {
             "fillmode": "overlay",
             "size": 10,
             "solidity": 0.2
            },
            "type": "scatter"
           }
          ],
          "scatter3d": [
           {
            "line": {
             "colorbar": {
              "outlinewidth": 0,
              "ticks": ""
             }
            },
            "marker": {
             "colorbar": {
              "outlinewidth": 0,
              "ticks": ""
             }
            },
            "type": "scatter3d"
           }
          ],
          "scattercarpet": [
           {
            "marker": {
             "colorbar": {
              "outlinewidth": 0,
              "ticks": ""
             }
            },
            "type": "scattercarpet"
           }
          ],
          "scattergeo": [
           {
            "marker": {
             "colorbar": {
              "outlinewidth": 0,
              "ticks": ""
             }
            },
            "type": "scattergeo"
           }
          ],
          "scattergl": [
           {
            "marker": {
             "colorbar": {
              "outlinewidth": 0,
              "ticks": ""
             }
            },
            "type": "scattergl"
           }
          ],
          "scattermap": [
           {
            "marker": {
             "colorbar": {
              "outlinewidth": 0,
              "ticks": ""
             }
            },
            "type": "scattermap"
           }
          ],
          "scattermapbox": [
           {
            "marker": {
             "colorbar": {
              "outlinewidth": 0,
              "ticks": ""
             }
            },
            "type": "scattermapbox"
           }
          ],
          "scatterpolar": [
           {
            "marker": {
             "colorbar": {
              "outlinewidth": 0,
              "ticks": ""
             }
            },
            "type": "scatterpolar"
           }
          ],
          "scatterpolargl": [
           {
            "marker": {
             "colorbar": {
              "outlinewidth": 0,
              "ticks": ""
             }
            },
            "type": "scatterpolargl"
           }
          ],
          "scatterternary": [
           {
            "marker": {
             "colorbar": {
              "outlinewidth": 0,
              "ticks": ""
             }
            },
            "type": "scatterternary"
           }
          ],
          "surface": [
           {
            "colorbar": {
             "outlinewidth": 0,
             "ticks": ""
            },
            "colorscale": [
             [
              0,
              "#0d0887"
             ],
             [
              0.1111111111111111,
              "#46039f"
             ],
             [
              0.2222222222222222,
              "#7201a8"
             ],
             [
              0.3333333333333333,
              "#9c179e"
             ],
             [
              0.4444444444444444,
              "#bd3786"
             ],
             [
              0.5555555555555556,
              "#d8576b"
             ],
             [
              0.6666666666666666,
              "#ed7953"
             ],
             [
              0.7777777777777778,
              "#fb9f3a"
             ],
             [
              0.8888888888888888,
              "#fdca26"
             ],
             [
              1,
              "#f0f921"
             ]
            ],
            "type": "surface"
           }
          ],
          "table": [
           {
            "cells": {
             "fill": {
              "color": "#EBF0F8"
             },
             "line": {
              "color": "white"
             }
            },
            "header": {
             "fill": {
              "color": "#C8D4E3"
             },
             "line": {
              "color": "white"
             }
            },
            "type": "table"
           }
          ]
         },
         "layout": {
          "annotationdefaults": {
           "arrowcolor": "#2a3f5f",
           "arrowhead": 0,
           "arrowwidth": 1
          },
          "autotypenumbers": "strict",
          "coloraxis": {
           "colorbar": {
            "outlinewidth": 0,
            "ticks": ""
           }
          },
          "colorscale": {
           "diverging": [
            [
             0,
             "#8e0152"
            ],
            [
             0.1,
             "#c51b7d"
            ],
            [
             0.2,
             "#de77ae"
            ],
            [
             0.3,
             "#f1b6da"
            ],
            [
             0.4,
             "#fde0ef"
            ],
            [
             0.5,
             "#f7f7f7"
            ],
            [
             0.6,
             "#e6f5d0"
            ],
            [
             0.7,
             "#b8e186"
            ],
            [
             0.8,
             "#7fbc41"
            ],
            [
             0.9,
             "#4d9221"
            ],
            [
             1,
             "#276419"
            ]
           ],
           "sequential": [
            [
             0,
             "#0d0887"
            ],
            [
             0.1111111111111111,
             "#46039f"
            ],
            [
             0.2222222222222222,
             "#7201a8"
            ],
            [
             0.3333333333333333,
             "#9c179e"
            ],
            [
             0.4444444444444444,
             "#bd3786"
            ],
            [
             0.5555555555555556,
             "#d8576b"
            ],
            [
             0.6666666666666666,
             "#ed7953"
            ],
            [
             0.7777777777777778,
             "#fb9f3a"
            ],
            [
             0.8888888888888888,
             "#fdca26"
            ],
            [
             1,
             "#f0f921"
            ]
           ],
           "sequentialminus": [
            [
             0,
             "#0d0887"
            ],
            [
             0.1111111111111111,
             "#46039f"
            ],
            [
             0.2222222222222222,
             "#7201a8"
            ],
            [
             0.3333333333333333,
             "#9c179e"
            ],
            [
             0.4444444444444444,
             "#bd3786"
            ],
            [
             0.5555555555555556,
             "#d8576b"
            ],
            [
             0.6666666666666666,
             "#ed7953"
            ],
            [
             0.7777777777777778,
             "#fb9f3a"
            ],
            [
             0.8888888888888888,
             "#fdca26"
            ],
            [
             1,
             "#f0f921"
            ]
           ]
          },
          "colorway": [
           "#636efa",
           "#EF553B",
           "#00cc96",
           "#ab63fa",
           "#FFA15A",
           "#19d3f3",
           "#FF6692",
           "#B6E880",
           "#FF97FF",
           "#FECB52"
          ],
          "font": {
           "color": "#2a3f5f"
          },
          "geo": {
           "bgcolor": "white",
           "lakecolor": "white",
           "landcolor": "#E5ECF6",
           "showlakes": true,
           "showland": true,
           "subunitcolor": "white"
          },
          "hoverlabel": {
           "align": "left"
          },
          "hovermode": "closest",
          "mapbox": {
           "style": "light"
          },
          "paper_bgcolor": "white",
          "plot_bgcolor": "#E5ECF6",
          "polar": {
           "angularaxis": {
            "gridcolor": "white",
            "linecolor": "white",
            "ticks": ""
           },
           "bgcolor": "#E5ECF6",
           "radialaxis": {
            "gridcolor": "white",
            "linecolor": "white",
            "ticks": ""
           }
          },
          "scene": {
           "xaxis": {
            "backgroundcolor": "#E5ECF6",
            "gridcolor": "white",
            "gridwidth": 2,
            "linecolor": "white",
            "showbackground": true,
            "ticks": "",
            "zerolinecolor": "white"
           },
           "yaxis": {
            "backgroundcolor": "#E5ECF6",
            "gridcolor": "white",
            "gridwidth": 2,
            "linecolor": "white",
            "showbackground": true,
            "ticks": "",
            "zerolinecolor": "white"
           },
           "zaxis": {
            "backgroundcolor": "#E5ECF6",
            "gridcolor": "white",
            "gridwidth": 2,
            "linecolor": "white",
            "showbackground": true,
            "ticks": "",
            "zerolinecolor": "white"
           }
          },
          "shapedefaults": {
           "line": {
            "color": "#2a3f5f"
           }
          },
          "ternary": {
           "aaxis": {
            "gridcolor": "white",
            "linecolor": "white",
            "ticks": ""
           },
           "baxis": {
            "gridcolor": "white",
            "linecolor": "white",
            "ticks": ""
           },
           "bgcolor": "#E5ECF6",
           "caxis": {
            "gridcolor": "white",
            "linecolor": "white",
            "ticks": ""
           }
          },
          "title": {
           "x": 0.05
          },
          "xaxis": {
           "automargin": true,
           "gridcolor": "white",
           "linecolor": "white",
           "ticks": "",
           "title": {
            "standoff": 15
           },
           "zerolinecolor": "white",
           "zerolinewidth": 2
          },
          "yaxis": {
           "automargin": true,
           "gridcolor": "white",
           "linecolor": "white",
           "ticks": "",
           "title": {
            "standoff": 15
           },
           "zerolinecolor": "white",
           "zerolinewidth": 2
          }
         }
        },
        "title": {
         "text": "Riserve Barili di Petrolio"
        },
        "width": 1000
       }
      }
     },
     "metadata": {},
     "output_type": "display_data"
    }
   ],
   "source": [
    "import pandas as pd\n",
    "import numpy as np\n",
    "import plotly.express as px\n",
    "from io import StringIO\n",
    "\n",
    "# Dati forniti\n",
    "file_content = \"\"\"Entity,Barili,Code\n",
    "Venezuela,299953000000,VEN\n",
    "Saudi Arabia,266578000000,SAU\n",
    "Canada,170863000000,CAN\n",
    "Iran,157530000000,IRN\n",
    "Iraq,143069000000,IRQ\n",
    "Kuwait,101500000000,KWT\n",
    "United Arab Emirates,97800000000,ARE\n",
    "Russia,80000000000,RUS\n",
    "Libya,48363000000,LBY\n",
    "Nigeria,37070000000,NGA\n",
    "United States,35230000000,USA\n",
    "Kazakhstan,30000000000,KAZ\n",
    "Qatar,252440000000,QAT\n",
    "China,25132122000,CHN\n",
    "Brazil,16184100000,BRA\n",
    "Algeria,12200000000,DZA\n",
    "Mexico,9711000000,MEX\n",
    "Angola,8423000000,AGO\n",
    "Ecuador,8273000000,ECU\n",
    "Azerbaijan,7000000000,AZE\n",
    "Oman,5306000000,OMN\n",
    "Norway,5138767000,NOR\n",
    "Sudan,5000000000,SDN\n",
    "India,4728790000,IND\n",
    "Vietnam,4400000000,VNM\n",
    "Egypt,4400000000,EGY\n",
    "Indonesia,3692500000,IDN\n",
    "Malaysia,3600000000,MYS\n",
    "Yemen,3000000000,YEM\n",
    "United Kingdom,2754685000,GBR\n",
    "Syria,2500000000,SYR\n",
    "Uganda,2500000000,UGA\n",
    "Argentina,2379702000,ARG\n",
    "Colombia,2308000000,COL\n",
    "Gabon,2000000000,GAB\n",
    "Congo,1600000000,COG\n",
    "Chad,1500000000,TCD\n",
    "Australia,1193000000,AUS\n",
    "Brunei,1100000000,BRN\n",
    "Equatorial Guinea,1100000000,GNQ\n",
    "Trinidad and Tobago,728300000,TTO\n",
    "Peru,682681000,PER\n",
    "Ghana,660000000,GHA\n",
    "Turkmenistan,600000000,TKM\n",
    "Romania,600000000,ROU\n",
    "Uzbekistan,594000000,UZB\n",
    "Italy,579232000,ITA\n",
    "Denmark,551000000,DNK\n",
    "Tunisia,425000000,TUN\n",
    "Thailand,404890000,THA\n",
    "Ukraine,395000000,UKR\n",
    "Pakistan,353500000,PAK\n",
    "Turkey,312000000,TUR\n",
    "Bolivia,211450000,BOL\n",
    "Cameroon,200000000,CMR\n",
    "Belarus,198000000,BLR\n",
    "Papua New Guinea,180249000,PNG\n",
    "DR Congo,180000000,COD\n",
    "Albania,168332000,ALB\n",
    "Chile,150000000,CHL\n",
    "Niger,150000000,NER\n",
    "Spain,150000000,ESP\n",
    "Netherlands,140892000,NLD\n",
    "Philippines,138500000,PHL\n",
    "Poland,137752000,POL\n",
    "Germany,132480000,DEU\n",
    "Bahrain,124560000,BHR\n",
    "Cuba,124000000,CUB\n",
    "Suriname,99980000,SUR\n",
    "Côte d'Ivoire,100000000,CIV\n",
    "Guatemala,83070000,GTM\n",
    "France,78431000,FRA\n",
    "Serbia,77500000,SRB\n",
    "Croatia,71000000,HRV\n",
    "New Zealand,64100000,NZL\n",
    "Myanmar,50000000,MMR\n",
    "Austria,45400000,AUT\n",
    "Japan,44115000,JPN\n",
    "Kyrgyzstan,40000000,KGZ\n",
    "Georgia,35000000,GEO\n",
    "Hungary,28600000,HUN\n",
    "Bangladesh,28000000,BGD\n",
    "Mauritania,20000000,MRT\n",
    "Bulgaria,15000000,BGR\n",
    "Czech Republic (Czechia),15000000,CZE\n",
    "South Africa,15000000,ZAF\n",
    "Israel,13953000,ISR\n",
    "Lithuania,12000000,LTU\n",
    "Tajikistan,12000000,TJK\n",
    "Greece,10000000,GRC\n",
    "Slovakia,9000000,SVK\n",
    "Benin,8000000,BEN\n",
    "Belize,6700000,BLZ\n",
    "Taiwan,2380000,TWN\n",
    "Barbados,2315000,BRB\n",
    "Jordan,1000000,JOR\n",
    "Morocco,684000,MAR\n",
    "Ethiopia,428000,ETH\"\"\"\n",
    "\n",
    "# Creazione DataFrame\n",
    "df = pd.read_csv(StringIO(file_content))\n",
    "\n",
    "# Filtriamo solo le nazioni con codice ISO valido\n",
    "df = df.dropna(subset=['Code'])\n",
    "\n",
    "# Creazione mappa\n",
    "fig = px.choropleth(df,\n",
    "                    locations=\"Code\",\n",
    "                    color=\"Barili\",\n",
    "                    hover_name=\"Entity\",\n",
    "                    hover_data=[\"Barili\"],\n",
    "                    color_continuous_scale='YlOrBr',\n",
    "                    title=\"Riserve Barili di Petrolio\",\n",
    "                    projection='natural earth')\n",
    "\n",
    "# Aggiungi questa sezione per controllo avanzato dei colori\n",
    "fig.update_layout(\n",
    "    margin={\"r\": 20, \"t\": 40, \"l\": 20, \"b\": 20},  # Margini del grafico (right, top, left, bottom)\n",
    "    width=1000,\n",
    "    height=700,\n",
    "    plot_bgcolor='#EAE0C8',\n",
    "    paper_bgcolor=\"#EAE0C8\",\n",
    "    coloraxis=dict(\n",
    "        cmin=1e7,  # Valore minimo per la scala dei colori\n",
    "        cmax=2e11, # Valore massimo per la scala dei colori\n",
    "        colorscale='YlOrBr', # Alternative: 'Hot', 'Reds', 'Plasma'\n",
    "        colorbar=dict(\n",
    "            title=\"Bilion of barrels\",\n",
    "            #tickvals=[1e6, 1e8, 1e9, 1e10, 1e11], # Valori espliciti per la barra\n",
    "            #ticktext=[\"1,000,000\", \"10,000,000\", \"100,000,000\"] # Etichette personalizzate\n",
    "        )\n",
    "    )\n",
    ")\n",
    "\n",
    "# Per una scala logaritmica (utile per grandi variazioni)\n",
    "#fig.update_traces(marker_opacity=0.8, \n",
    "#                  selector=dict(type='choropleth'),\n",
    "#                  zmin=1e6, \n",
    "#                  zmax=1e12,\n",
    "#                  z=np.log10(df['Coal reserves - Mt'])) # Trasformazione logaritmica\n",
    "fig.show()"
   ]
  }
 ],
 "metadata": {
  "kernelspec": {
   "display_name": "Python 3",
   "language": "python",
   "name": "python3"
  },
  "language_info": {
   "codemirror_mode": {
    "name": "ipython",
    "version": 3
   },
   "file_extension": ".py",
   "mimetype": "text/x-python",
   "name": "python",
   "nbconvert_exporter": "python",
   "pygments_lexer": "ipython3",
   "version": "3.11.9"
  }
 },
 "nbformat": 4,
 "nbformat_minor": 2
}
